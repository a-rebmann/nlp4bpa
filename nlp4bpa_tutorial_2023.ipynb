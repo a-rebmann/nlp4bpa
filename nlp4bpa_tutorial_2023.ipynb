{
 "cells": [
  {
   "cell_type": "markdown",
   "metadata": {
    "id": "WBk0ZDWY-ff8"
   },
   "source": [
    "<table align=\"center\">\n",
    "\n",
    "  <td align=\"center\"><a target=\"_blank\" href=\"https://colab.research.google.com/github/a-rebmann/nlp4bpa/blob/main/nlp4bpa_tutorial_2023.ipynb\">\n",
    "        <img src=\"https://i.ibb.co/2P3SLwK/colab.png\"  style=\"padding-bottom:5px;\" />Run in Google Colab</a></td>\n",
    "</table>"
   ]
  },
  {
   "cell_type": "markdown",
   "metadata": {
    "id": "57knM8jrYZ2t"
   },
   "source": [
    "# NLP for BPA - Hands-on Exercises\n",
    "\n",
    "## Outline\n",
    "\n",
    "### 1. Event log and Process Model Analysis\n",
    "    1.1 Importing and analyzing an event log with GPT4 and pm4py\n",
    "    1.2 Custom task: action and object extraction from activity labels using LLMs\n",
    "    1.3 Something where we have extracted semantic info already and show potential use cases. Perhaps based on extracted action and object info\n",
    "\n",
    "### 2. Analyzing textual process descriptions\n",
    "    Imperative model extraction from text\n",
    "    \n",
    "### 3. Future of NLP for BPA"
   ]
  },
  {
   "cell_type": "code",
   "execution_count": 2,
   "metadata": {
    "id": "LkaimNJfYZ2w"
   },
   "outputs": [
    {
     "name": "stdout",
     "output_type": "stream",
     "text": [
      "Collecting en-core-web-sm==3.5.0\n",
      "  Downloading https://github.com/explosion/spacy-models/releases/download/en_core_web_sm-3.5.0/en_core_web_sm-3.5.0-py3-none-any.whl (12.8 MB)\n",
      "\u001b[2K     \u001b[90m━━━━━━━━━━━━━━━━━━━━━━━━━━━━━━━━━━━━━━━━\u001b[0m \u001b[32m12.8/12.8 MB\u001b[0m \u001b[31m15.8 MB/s\u001b[0m eta \u001b[36m0:00:00\u001b[0m00:01\u001b[0m00:01\u001b[0m\n",
      "\u001b[?25hRequirement already satisfied: spacy<3.6.0,>=3.5.0 in /Users/adrianrebmann/anaconda3/lib/python3.9/site-packages (from en-core-web-sm==3.5.0) (3.5.2)\n",
      "Requirement already satisfied: requests<3.0.0,>=2.13.0 in /Users/adrianrebmann/anaconda3/lib/python3.9/site-packages (from spacy<3.6.0,>=3.5.0->en-core-web-sm==3.5.0) (2.28.1)\n",
      "Requirement already satisfied: typer<0.8.0,>=0.3.0 in /Users/adrianrebmann/anaconda3/lib/python3.9/site-packages (from spacy<3.6.0,>=3.5.0->en-core-web-sm==3.5.0) (0.4.2)\n",
      "Requirement already satisfied: setuptools in /Users/adrianrebmann/anaconda3/lib/python3.9/site-packages (from spacy<3.6.0,>=3.5.0->en-core-web-sm==3.5.0) (63.4.1)\n",
      "Requirement already satisfied: catalogue<2.1.0,>=2.0.6 in /Users/adrianrebmann/anaconda3/lib/python3.9/site-packages (from spacy<3.6.0,>=3.5.0->en-core-web-sm==3.5.0) (2.0.8)\n",
      "Requirement already satisfied: murmurhash<1.1.0,>=0.28.0 in /Users/adrianrebmann/anaconda3/lib/python3.9/site-packages (from spacy<3.6.0,>=3.5.0->en-core-web-sm==3.5.0) (1.0.9)\n",
      "Requirement already satisfied: thinc<8.2.0,>=8.1.8 in /Users/adrianrebmann/anaconda3/lib/python3.9/site-packages (from spacy<3.6.0,>=3.5.0->en-core-web-sm==3.5.0) (8.1.9)\n",
      "Requirement already satisfied: spacy-loggers<2.0.0,>=1.0.0 in /Users/adrianrebmann/anaconda3/lib/python3.9/site-packages (from spacy<3.6.0,>=3.5.0->en-core-web-sm==3.5.0) (1.0.4)\n",
      "Requirement already satisfied: packaging>=20.0 in /Users/adrianrebmann/anaconda3/lib/python3.9/site-packages (from spacy<3.6.0,>=3.5.0->en-core-web-sm==3.5.0) (21.3)\n",
      "Requirement already satisfied: pydantic!=1.8,!=1.8.1,<1.11.0,>=1.7.4 in /Users/adrianrebmann/anaconda3/lib/python3.9/site-packages (from spacy<3.6.0,>=3.5.0->en-core-web-sm==3.5.0) (1.10.6)\n",
      "Requirement already satisfied: srsly<3.0.0,>=2.4.3 in /Users/adrianrebmann/anaconda3/lib/python3.9/site-packages (from spacy<3.6.0,>=3.5.0->en-core-web-sm==3.5.0) (2.4.6)\n",
      "Requirement already satisfied: preshed<3.1.0,>=3.0.2 in /Users/adrianrebmann/anaconda3/lib/python3.9/site-packages (from spacy<3.6.0,>=3.5.0->en-core-web-sm==3.5.0) (3.0.8)\n",
      "Requirement already satisfied: wasabi<1.2.0,>=0.9.1 in /Users/adrianrebmann/anaconda3/lib/python3.9/site-packages (from spacy<3.6.0,>=3.5.0->en-core-web-sm==3.5.0) (1.1.1)\n",
      "Requirement already satisfied: spacy-legacy<3.1.0,>=3.0.11 in /Users/adrianrebmann/anaconda3/lib/python3.9/site-packages (from spacy<3.6.0,>=3.5.0->en-core-web-sm==3.5.0) (3.0.12)\n",
      "Requirement already satisfied: pathy>=0.10.0 in /Users/adrianrebmann/anaconda3/lib/python3.9/site-packages (from spacy<3.6.0,>=3.5.0->en-core-web-sm==3.5.0) (0.10.1)\n",
      "Requirement already satisfied: smart-open<7.0.0,>=5.2.1 in /Users/adrianrebmann/anaconda3/lib/python3.9/site-packages (from spacy<3.6.0,>=3.5.0->en-core-web-sm==3.5.0) (5.2.1)\n",
      "Requirement already satisfied: tqdm<5.0.0,>=4.38.0 in /Users/adrianrebmann/anaconda3/lib/python3.9/site-packages (from spacy<3.6.0,>=3.5.0->en-core-web-sm==3.5.0) (4.64.1)\n",
      "Requirement already satisfied: jinja2 in /Users/adrianrebmann/anaconda3/lib/python3.9/site-packages (from spacy<3.6.0,>=3.5.0->en-core-web-sm==3.5.0) (3.1.2)\n",
      "Requirement already satisfied: langcodes<4.0.0,>=3.2.0 in /Users/adrianrebmann/anaconda3/lib/python3.9/site-packages (from spacy<3.6.0,>=3.5.0->en-core-web-sm==3.5.0) (3.3.0)\n",
      "Requirement already satisfied: cymem<2.1.0,>=2.0.2 in /Users/adrianrebmann/anaconda3/lib/python3.9/site-packages (from spacy<3.6.0,>=3.5.0->en-core-web-sm==3.5.0) (2.0.7)\n",
      "Requirement already satisfied: numpy>=1.15.0 in /Users/adrianrebmann/anaconda3/lib/python3.9/site-packages (from spacy<3.6.0,>=3.5.0->en-core-web-sm==3.5.0) (1.24.1)\n",
      "Requirement already satisfied: pyparsing!=3.0.5,>=2.0.2 in /Users/adrianrebmann/anaconda3/lib/python3.9/site-packages (from packaging>=20.0->spacy<3.6.0,>=3.5.0->en-core-web-sm==3.5.0) (3.0.9)\n",
      "Requirement already satisfied: typing-extensions>=4.2.0 in /Users/adrianrebmann/anaconda3/lib/python3.9/site-packages (from pydantic!=1.8,!=1.8.1,<1.11.0,>=1.7.4->spacy<3.6.0,>=3.5.0->en-core-web-sm==3.5.0) (4.5.0)\n",
      "Requirement already satisfied: certifi>=2017.4.17 in /Users/adrianrebmann/anaconda3/lib/python3.9/site-packages (from requests<3.0.0,>=2.13.0->spacy<3.6.0,>=3.5.0->en-core-web-sm==3.5.0) (2022.9.24)\n",
      "Requirement already satisfied: idna<4,>=2.5 in /Users/adrianrebmann/anaconda3/lib/python3.9/site-packages (from requests<3.0.0,>=2.13.0->spacy<3.6.0,>=3.5.0->en-core-web-sm==3.5.0) (3.3)\n",
      "Requirement already satisfied: charset-normalizer<3,>=2 in /Users/adrianrebmann/anaconda3/lib/python3.9/site-packages (from requests<3.0.0,>=2.13.0->spacy<3.6.0,>=3.5.0->en-core-web-sm==3.5.0) (2.0.4)\n",
      "Requirement already satisfied: urllib3<1.27,>=1.21.1 in /Users/adrianrebmann/anaconda3/lib/python3.9/site-packages (from requests<3.0.0,>=2.13.0->spacy<3.6.0,>=3.5.0->en-core-web-sm==3.5.0) (1.26.11)\n",
      "Requirement already satisfied: confection<1.0.0,>=0.0.1 in /Users/adrianrebmann/anaconda3/lib/python3.9/site-packages (from thinc<8.2.0,>=8.1.8->spacy<3.6.0,>=3.5.0->en-core-web-sm==3.5.0) (0.0.4)\n",
      "Requirement already satisfied: blis<0.8.0,>=0.7.8 in /Users/adrianrebmann/anaconda3/lib/python3.9/site-packages (from thinc<8.2.0,>=8.1.8->spacy<3.6.0,>=3.5.0->en-core-web-sm==3.5.0) (0.7.9)\n",
      "Requirement already satisfied: click<9.0.0,>=7.1.1 in /Users/adrianrebmann/anaconda3/lib/python3.9/site-packages (from typer<0.8.0,>=0.3.0->spacy<3.6.0,>=3.5.0->en-core-web-sm==3.5.0) (8.1.3)\n",
      "Requirement already satisfied: MarkupSafe>=2.0 in /Users/adrianrebmann/anaconda3/lib/python3.9/site-packages (from jinja2->spacy<3.6.0,>=3.5.0->en-core-web-sm==3.5.0) (2.1.2)\n",
      "\u001b[38;5;2m✔ Download and installation successful\u001b[0m\n",
      "You can now load the package via spacy.load('en_core_web_sm')\n",
      "Requirement already satisfied: spacy-llm in /Users/adrianrebmann/anaconda3/lib/python3.9/site-packages (0.4.3)\n",
      "Requirement already satisfied: jinja2 in /Users/adrianrebmann/anaconda3/lib/python3.9/site-packages (from spacy-llm) (3.1.2)\n",
      "Requirement already satisfied: spacy<4.0,>=3.5 in /Users/adrianrebmann/anaconda3/lib/python3.9/site-packages (from spacy-llm) (3.5.2)\n",
      "Requirement already satisfied: murmurhash<1.1.0,>=0.28.0 in /Users/adrianrebmann/anaconda3/lib/python3.9/site-packages (from spacy<4.0,>=3.5->spacy-llm) (1.0.9)\n",
      "Requirement already satisfied: pathy>=0.10.0 in /Users/adrianrebmann/anaconda3/lib/python3.9/site-packages (from spacy<4.0,>=3.5->spacy-llm) (0.10.1)\n",
      "Requirement already satisfied: wasabi<1.2.0,>=0.9.1 in /Users/adrianrebmann/anaconda3/lib/python3.9/site-packages (from spacy<4.0,>=3.5->spacy-llm) (1.1.1)\n",
      "Requirement already satisfied: spacy-legacy<3.1.0,>=3.0.11 in /Users/adrianrebmann/anaconda3/lib/python3.9/site-packages (from spacy<4.0,>=3.5->spacy-llm) (3.0.12)\n",
      "Requirement already satisfied: thinc<8.2.0,>=8.1.8 in /Users/adrianrebmann/anaconda3/lib/python3.9/site-packages (from spacy<4.0,>=3.5->spacy-llm) (8.1.9)\n",
      "Requirement already satisfied: numpy>=1.15.0 in /Users/adrianrebmann/anaconda3/lib/python3.9/site-packages (from spacy<4.0,>=3.5->spacy-llm) (1.24.1)\n",
      "Requirement already satisfied: catalogue<2.1.0,>=2.0.6 in /Users/adrianrebmann/anaconda3/lib/python3.9/site-packages (from spacy<4.0,>=3.5->spacy-llm) (2.0.8)\n",
      "Requirement already satisfied: srsly<3.0.0,>=2.4.3 in /Users/adrianrebmann/anaconda3/lib/python3.9/site-packages (from spacy<4.0,>=3.5->spacy-llm) (2.4.6)\n",
      "Requirement already satisfied: typer<0.8.0,>=0.3.0 in /Users/adrianrebmann/anaconda3/lib/python3.9/site-packages (from spacy<4.0,>=3.5->spacy-llm) (0.4.2)\n",
      "Requirement already satisfied: tqdm<5.0.0,>=4.38.0 in /Users/adrianrebmann/anaconda3/lib/python3.9/site-packages (from spacy<4.0,>=3.5->spacy-llm) (4.64.1)\n",
      "Requirement already satisfied: langcodes<4.0.0,>=3.2.0 in /Users/adrianrebmann/anaconda3/lib/python3.9/site-packages (from spacy<4.0,>=3.5->spacy-llm) (3.3.0)\n",
      "Requirement already satisfied: preshed<3.1.0,>=3.0.2 in /Users/adrianrebmann/anaconda3/lib/python3.9/site-packages (from spacy<4.0,>=3.5->spacy-llm) (3.0.8)\n",
      "Requirement already satisfied: setuptools in /Users/adrianrebmann/anaconda3/lib/python3.9/site-packages (from spacy<4.0,>=3.5->spacy-llm) (63.4.1)\n",
      "Requirement already satisfied: cymem<2.1.0,>=2.0.2 in /Users/adrianrebmann/anaconda3/lib/python3.9/site-packages (from spacy<4.0,>=3.5->spacy-llm) (2.0.7)\n",
      "Requirement already satisfied: spacy-loggers<2.0.0,>=1.0.0 in /Users/adrianrebmann/anaconda3/lib/python3.9/site-packages (from spacy<4.0,>=3.5->spacy-llm) (1.0.4)\n",
      "Requirement already satisfied: requests<3.0.0,>=2.13.0 in /Users/adrianrebmann/anaconda3/lib/python3.9/site-packages (from spacy<4.0,>=3.5->spacy-llm) (2.28.1)\n",
      "Requirement already satisfied: smart-open<7.0.0,>=5.2.1 in /Users/adrianrebmann/anaconda3/lib/python3.9/site-packages (from spacy<4.0,>=3.5->spacy-llm) (5.2.1)\n",
      "Requirement already satisfied: packaging>=20.0 in /Users/adrianrebmann/anaconda3/lib/python3.9/site-packages (from spacy<4.0,>=3.5->spacy-llm) (21.3)\n",
      "Requirement already satisfied: pydantic!=1.8,!=1.8.1,<1.11.0,>=1.7.4 in /Users/adrianrebmann/anaconda3/lib/python3.9/site-packages (from spacy<4.0,>=3.5->spacy-llm) (1.10.6)\n",
      "Requirement already satisfied: MarkupSafe>=2.0 in /Users/adrianrebmann/anaconda3/lib/python3.9/site-packages (from jinja2->spacy-llm) (2.1.2)\n",
      "Requirement already satisfied: pyparsing!=3.0.5,>=2.0.2 in /Users/adrianrebmann/anaconda3/lib/python3.9/site-packages (from packaging>=20.0->spacy<4.0,>=3.5->spacy-llm) (3.0.9)\n"
     ]
    },
    {
     "name": "stdout",
     "output_type": "stream",
     "text": [
      "Requirement already satisfied: typing-extensions>=4.2.0 in /Users/adrianrebmann/anaconda3/lib/python3.9/site-packages (from pydantic!=1.8,!=1.8.1,<1.11.0,>=1.7.4->spacy<4.0,>=3.5->spacy-llm) (4.5.0)\n",
      "Requirement already satisfied: certifi>=2017.4.17 in /Users/adrianrebmann/anaconda3/lib/python3.9/site-packages (from requests<3.0.0,>=2.13.0->spacy<4.0,>=3.5->spacy-llm) (2022.9.24)\n",
      "Requirement already satisfied: idna<4,>=2.5 in /Users/adrianrebmann/anaconda3/lib/python3.9/site-packages (from requests<3.0.0,>=2.13.0->spacy<4.0,>=3.5->spacy-llm) (3.3)\n",
      "Requirement already satisfied: urllib3<1.27,>=1.21.1 in /Users/adrianrebmann/anaconda3/lib/python3.9/site-packages (from requests<3.0.0,>=2.13.0->spacy<4.0,>=3.5->spacy-llm) (1.26.11)\n",
      "Requirement already satisfied: charset-normalizer<3,>=2 in /Users/adrianrebmann/anaconda3/lib/python3.9/site-packages (from requests<3.0.0,>=2.13.0->spacy<4.0,>=3.5->spacy-llm) (2.0.4)\n",
      "Requirement already satisfied: confection<1.0.0,>=0.0.1 in /Users/adrianrebmann/anaconda3/lib/python3.9/site-packages (from thinc<8.2.0,>=8.1.8->spacy<4.0,>=3.5->spacy-llm) (0.0.4)\n",
      "Requirement already satisfied: blis<0.8.0,>=0.7.8 in /Users/adrianrebmann/anaconda3/lib/python3.9/site-packages (from thinc<8.2.0,>=8.1.8->spacy<4.0,>=3.5->spacy-llm) (0.7.9)\n",
      "Requirement already satisfied: click<9.0.0,>=7.1.1 in /Users/adrianrebmann/anaconda3/lib/python3.9/site-packages (from typer<0.8.0,>=0.3.0->spacy<4.0,>=3.5->spacy-llm) (8.1.3)\n"
     ]
    }
   ],
   "source": [
    "# Required installs\n",
    "\n",
    "!pip install -q pm4py==2.7.3\n",
    "!pip install -q spacy\n",
    "!pip install -q spacy-transformers\n",
    "!pip install -q openai\n",
    "!python -m spacy download en_core_web_sm\n",
    "!python -m pip install spacy-llm"
   ]
  },
  {
   "cell_type": "code",
   "execution_count": null,
   "metadata": {},
   "outputs": [],
   "source": [
    "# Importing an example event log\n",
    "\n",
    "import pm4py\n",
    "travel_event_log = pm4py.read_xes(\"/DomesticDeclarations.xes\")"
   ]
  },
  {
   "cell_type": "code",
   "execution_count": null,
   "metadata": {},
   "outputs": [],
   "source": []
  },
  {
   "cell_type": "code",
   "execution_count": null,
   "metadata": {},
   "outputs": [],
   "source": []
  }
 ],
 "metadata": {
  "accelerator": "GPU",
  "colab": {
   "collapsed_sections": [
    "WBk0ZDWY-ff8"
   ],
   "name": "nlp4bpm_tutorial_2023.ipynb",
   "provenance": []
  },
  "kernelspec": {
   "display_name": "Python 3 (ipykernel)",
   "language": "python",
   "name": "python3"
  },
  "language_info": {
   "codemirror_mode": {
    "name": "ipython",
    "version": 3
   },
   "file_extension": ".py",
   "mimetype": "text/x-python",
   "name": "python",
   "nbconvert_exporter": "python",
   "pygments_lexer": "ipython3",
   "version": "3.9.13"
  }
 },
 "nbformat": 4,
 "nbformat_minor": 1
}
