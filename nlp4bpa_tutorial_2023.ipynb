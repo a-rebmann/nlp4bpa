{
 "cells": [
  {
   "cell_type": "markdown",
   "metadata": {
    "id": "WBk0ZDWY-ff8"
   },
   "source": [
    "<table align=\"center\">\n",
    "\n",
    "  <td align=\"center\"><a target=\"_blank\" href=\"https://colab.research.google.com/github/a-rebmann/nlp4bpa/blob/main/nlp4bpa_tutorial_2023.ipynb\">\n",
    "        <img src=\"https://i.ibb.co/2P3SLwK/colab.png\"  style=\"padding-bottom:5px;\" />Run in Google Colab</a></td>\n",
    "</table>"
   ]
  },
  {
   "cell_type": "markdown",
   "metadata": {
    "id": "57knM8jrYZ2t"
   },
   "source": [
    "# NLP for BPA - Hands-on Exercises\n",
    "\n",
    "## Outline\n",
    "\n",
    "### 1. Event log and Process Model Analysis\n",
    "    1.1 Importing and analyzing an event log with GPT4 and pm4py\n",
    "    1.2 Custom task: action and object extraction from activity labels using LLMs\n",
    "    1.3 Potential use cases of the custom task.\n",
    "\n",
    "### 2. Analyzing textual process descriptions\n",
    "    Imperative model extraction from text\n",
    "    \n",
    "### 3. Future of NLP for BPA"
   ]
  },
  {
   "cell_type": "markdown",
   "metadata": {},
   "source": [
    "#### API key"
   ]
  },
  {
   "cell_type": "code",
   "execution_count": null,
   "metadata": {},
   "outputs": [],
   "source": [
    "import os\n",
    "os.environ[\"OPENAI_API_KEY\"] = \n",
    "os.environ[\"OPENAI_API_ORG\"] = "
   ]
  },
  {
   "cell_type": "markdown",
   "metadata": {},
   "source": [
    "#### Required installs"
   ]
  },
  {
   "cell_type": "code",
   "execution_count": 2,
   "metadata": {
    "id": "LkaimNJfYZ2w"
   },
   "outputs": [
    {
     "name": "stdout",
     "output_type": "stream",
     "text": [
      "Collecting en-core-web-sm==3.5.0\n",
      "  Downloading https://github.com/explosion/spacy-models/releases/download/en_core_web_sm-3.5.0/en_core_web_sm-3.5.0-py3-none-any.whl (12.8 MB)\n",
      "\u001b[2K     \u001b[90m━━━━━━━━━━━━━━━━━━━━━━━━━━━━━━━━━━━━━━━━\u001b[0m \u001b[32m12.8/12.8 MB\u001b[0m \u001b[31m15.8 MB/s\u001b[0m eta \u001b[36m0:00:00\u001b[0m00:01\u001b[0m00:01\u001b[0m\n",
      "\u001b[?25hRequirement already satisfied: spacy<3.6.0,>=3.5.0 in /Users/adrianrebmann/anaconda3/lib/python3.9/site-packages (from en-core-web-sm==3.5.0) (3.5.2)\n",
      "Requirement already satisfied: requests<3.0.0,>=2.13.0 in /Users/adrianrebmann/anaconda3/lib/python3.9/site-packages (from spacy<3.6.0,>=3.5.0->en-core-web-sm==3.5.0) (2.28.1)\n",
      "Requirement already satisfied: typer<0.8.0,>=0.3.0 in /Users/adrianrebmann/anaconda3/lib/python3.9/site-packages (from spacy<3.6.0,>=3.5.0->en-core-web-sm==3.5.0) (0.4.2)\n",
      "Requirement already satisfied: setuptools in /Users/adrianrebmann/anaconda3/lib/python3.9/site-packages (from spacy<3.6.0,>=3.5.0->en-core-web-sm==3.5.0) (63.4.1)\n",
      "Requirement already satisfied: catalogue<2.1.0,>=2.0.6 in /Users/adrianrebmann/anaconda3/lib/python3.9/site-packages (from spacy<3.6.0,>=3.5.0->en-core-web-sm==3.5.0) (2.0.8)\n",
      "Requirement already satisfied: murmurhash<1.1.0,>=0.28.0 in /Users/adrianrebmann/anaconda3/lib/python3.9/site-packages (from spacy<3.6.0,>=3.5.0->en-core-web-sm==3.5.0) (1.0.9)\n",
      "Requirement already satisfied: thinc<8.2.0,>=8.1.8 in /Users/adrianrebmann/anaconda3/lib/python3.9/site-packages (from spacy<3.6.0,>=3.5.0->en-core-web-sm==3.5.0) (8.1.9)\n",
      "Requirement already satisfied: spacy-loggers<2.0.0,>=1.0.0 in /Users/adrianrebmann/anaconda3/lib/python3.9/site-packages (from spacy<3.6.0,>=3.5.0->en-core-web-sm==3.5.0) (1.0.4)\n",
      "Requirement already satisfied: packaging>=20.0 in /Users/adrianrebmann/anaconda3/lib/python3.9/site-packages (from spacy<3.6.0,>=3.5.0->en-core-web-sm==3.5.0) (21.3)\n",
      "Requirement already satisfied: pydantic!=1.8,!=1.8.1,<1.11.0,>=1.7.4 in /Users/adrianrebmann/anaconda3/lib/python3.9/site-packages (from spacy<3.6.0,>=3.5.0->en-core-web-sm==3.5.0) (1.10.6)\n",
      "Requirement already satisfied: srsly<3.0.0,>=2.4.3 in /Users/adrianrebmann/anaconda3/lib/python3.9/site-packages (from spacy<3.6.0,>=3.5.0->en-core-web-sm==3.5.0) (2.4.6)\n",
      "Requirement already satisfied: preshed<3.1.0,>=3.0.2 in /Users/adrianrebmann/anaconda3/lib/python3.9/site-packages (from spacy<3.6.0,>=3.5.0->en-core-web-sm==3.5.0) (3.0.8)\n",
      "Requirement already satisfied: wasabi<1.2.0,>=0.9.1 in /Users/adrianrebmann/anaconda3/lib/python3.9/site-packages (from spacy<3.6.0,>=3.5.0->en-core-web-sm==3.5.0) (1.1.1)\n",
      "Requirement already satisfied: spacy-legacy<3.1.0,>=3.0.11 in /Users/adrianrebmann/anaconda3/lib/python3.9/site-packages (from spacy<3.6.0,>=3.5.0->en-core-web-sm==3.5.0) (3.0.12)\n",
      "Requirement already satisfied: pathy>=0.10.0 in /Users/adrianrebmann/anaconda3/lib/python3.9/site-packages (from spacy<3.6.0,>=3.5.0->en-core-web-sm==3.5.0) (0.10.1)\n",
      "Requirement already satisfied: smart-open<7.0.0,>=5.2.1 in /Users/adrianrebmann/anaconda3/lib/python3.9/site-packages (from spacy<3.6.0,>=3.5.0->en-core-web-sm==3.5.0) (5.2.1)\n",
      "Requirement already satisfied: tqdm<5.0.0,>=4.38.0 in /Users/adrianrebmann/anaconda3/lib/python3.9/site-packages (from spacy<3.6.0,>=3.5.0->en-core-web-sm==3.5.0) (4.64.1)\n",
      "Requirement already satisfied: jinja2 in /Users/adrianrebmann/anaconda3/lib/python3.9/site-packages (from spacy<3.6.0,>=3.5.0->en-core-web-sm==3.5.0) (3.1.2)\n",
      "Requirement already satisfied: langcodes<4.0.0,>=3.2.0 in /Users/adrianrebmann/anaconda3/lib/python3.9/site-packages (from spacy<3.6.0,>=3.5.0->en-core-web-sm==3.5.0) (3.3.0)\n",
      "Requirement already satisfied: cymem<2.1.0,>=2.0.2 in /Users/adrianrebmann/anaconda3/lib/python3.9/site-packages (from spacy<3.6.0,>=3.5.0->en-core-web-sm==3.5.0) (2.0.7)\n",
      "Requirement already satisfied: numpy>=1.15.0 in /Users/adrianrebmann/anaconda3/lib/python3.9/site-packages (from spacy<3.6.0,>=3.5.0->en-core-web-sm==3.5.0) (1.24.1)\n",
      "Requirement already satisfied: pyparsing!=3.0.5,>=2.0.2 in /Users/adrianrebmann/anaconda3/lib/python3.9/site-packages (from packaging>=20.0->spacy<3.6.0,>=3.5.0->en-core-web-sm==3.5.0) (3.0.9)\n",
      "Requirement already satisfied: typing-extensions>=4.2.0 in /Users/adrianrebmann/anaconda3/lib/python3.9/site-packages (from pydantic!=1.8,!=1.8.1,<1.11.0,>=1.7.4->spacy<3.6.0,>=3.5.0->en-core-web-sm==3.5.0) (4.5.0)\n",
      "Requirement already satisfied: certifi>=2017.4.17 in /Users/adrianrebmann/anaconda3/lib/python3.9/site-packages (from requests<3.0.0,>=2.13.0->spacy<3.6.0,>=3.5.0->en-core-web-sm==3.5.0) (2022.9.24)\n",
      "Requirement already satisfied: idna<4,>=2.5 in /Users/adrianrebmann/anaconda3/lib/python3.9/site-packages (from requests<3.0.0,>=2.13.0->spacy<3.6.0,>=3.5.0->en-core-web-sm==3.5.0) (3.3)\n",
      "Requirement already satisfied: charset-normalizer<3,>=2 in /Users/adrianrebmann/anaconda3/lib/python3.9/site-packages (from requests<3.0.0,>=2.13.0->spacy<3.6.0,>=3.5.0->en-core-web-sm==3.5.0) (2.0.4)\n",
      "Requirement already satisfied: urllib3<1.27,>=1.21.1 in /Users/adrianrebmann/anaconda3/lib/python3.9/site-packages (from requests<3.0.0,>=2.13.0->spacy<3.6.0,>=3.5.0->en-core-web-sm==3.5.0) (1.26.11)\n",
      "Requirement already satisfied: confection<1.0.0,>=0.0.1 in /Users/adrianrebmann/anaconda3/lib/python3.9/site-packages (from thinc<8.2.0,>=8.1.8->spacy<3.6.0,>=3.5.0->en-core-web-sm==3.5.0) (0.0.4)\n",
      "Requirement already satisfied: blis<0.8.0,>=0.7.8 in /Users/adrianrebmann/anaconda3/lib/python3.9/site-packages (from thinc<8.2.0,>=8.1.8->spacy<3.6.0,>=3.5.0->en-core-web-sm==3.5.0) (0.7.9)\n",
      "Requirement already satisfied: click<9.0.0,>=7.1.1 in /Users/adrianrebmann/anaconda3/lib/python3.9/site-packages (from typer<0.8.0,>=0.3.0->spacy<3.6.0,>=3.5.0->en-core-web-sm==3.5.0) (8.1.3)\n",
      "Requirement already satisfied: MarkupSafe>=2.0 in /Users/adrianrebmann/anaconda3/lib/python3.9/site-packages (from jinja2->spacy<3.6.0,>=3.5.0->en-core-web-sm==3.5.0) (2.1.2)\n",
      "\u001b[38;5;2m✔ Download and installation successful\u001b[0m\n",
      "You can now load the package via spacy.load('en_core_web_sm')\n",
      "Requirement already satisfied: spacy-llm in /Users/adrianrebmann/anaconda3/lib/python3.9/site-packages (0.4.3)\n",
      "Requirement already satisfied: jinja2 in /Users/adrianrebmann/anaconda3/lib/python3.9/site-packages (from spacy-llm) (3.1.2)\n",
      "Requirement already satisfied: spacy<4.0,>=3.5 in /Users/adrianrebmann/anaconda3/lib/python3.9/site-packages (from spacy-llm) (3.5.2)\n",
      "Requirement already satisfied: murmurhash<1.1.0,>=0.28.0 in /Users/adrianrebmann/anaconda3/lib/python3.9/site-packages (from spacy<4.0,>=3.5->spacy-llm) (1.0.9)\n",
      "Requirement already satisfied: pathy>=0.10.0 in /Users/adrianrebmann/anaconda3/lib/python3.9/site-packages (from spacy<4.0,>=3.5->spacy-llm) (0.10.1)\n",
      "Requirement already satisfied: wasabi<1.2.0,>=0.9.1 in /Users/adrianrebmann/anaconda3/lib/python3.9/site-packages (from spacy<4.0,>=3.5->spacy-llm) (1.1.1)\n",
      "Requirement already satisfied: spacy-legacy<3.1.0,>=3.0.11 in /Users/adrianrebmann/anaconda3/lib/python3.9/site-packages (from spacy<4.0,>=3.5->spacy-llm) (3.0.12)\n",
      "Requirement already satisfied: thinc<8.2.0,>=8.1.8 in /Users/adrianrebmann/anaconda3/lib/python3.9/site-packages (from spacy<4.0,>=3.5->spacy-llm) (8.1.9)\n",
      "Requirement already satisfied: numpy>=1.15.0 in /Users/adrianrebmann/anaconda3/lib/python3.9/site-packages (from spacy<4.0,>=3.5->spacy-llm) (1.24.1)\n",
      "Requirement already satisfied: catalogue<2.1.0,>=2.0.6 in /Users/adrianrebmann/anaconda3/lib/python3.9/site-packages (from spacy<4.0,>=3.5->spacy-llm) (2.0.8)\n",
      "Requirement already satisfied: srsly<3.0.0,>=2.4.3 in /Users/adrianrebmann/anaconda3/lib/python3.9/site-packages (from spacy<4.0,>=3.5->spacy-llm) (2.4.6)\n",
      "Requirement already satisfied: typer<0.8.0,>=0.3.0 in /Users/adrianrebmann/anaconda3/lib/python3.9/site-packages (from spacy<4.0,>=3.5->spacy-llm) (0.4.2)\n",
      "Requirement already satisfied: tqdm<5.0.0,>=4.38.0 in /Users/adrianrebmann/anaconda3/lib/python3.9/site-packages (from spacy<4.0,>=3.5->spacy-llm) (4.64.1)\n",
      "Requirement already satisfied: langcodes<4.0.0,>=3.2.0 in /Users/adrianrebmann/anaconda3/lib/python3.9/site-packages (from spacy<4.0,>=3.5->spacy-llm) (3.3.0)\n",
      "Requirement already satisfied: preshed<3.1.0,>=3.0.2 in /Users/adrianrebmann/anaconda3/lib/python3.9/site-packages (from spacy<4.0,>=3.5->spacy-llm) (3.0.8)\n",
      "Requirement already satisfied: setuptools in /Users/adrianrebmann/anaconda3/lib/python3.9/site-packages (from spacy<4.0,>=3.5->spacy-llm) (63.4.1)\n",
      "Requirement already satisfied: cymem<2.1.0,>=2.0.2 in /Users/adrianrebmann/anaconda3/lib/python3.9/site-packages (from spacy<4.0,>=3.5->spacy-llm) (2.0.7)\n",
      "Requirement already satisfied: spacy-loggers<2.0.0,>=1.0.0 in /Users/adrianrebmann/anaconda3/lib/python3.9/site-packages (from spacy<4.0,>=3.5->spacy-llm) (1.0.4)\n",
      "Requirement already satisfied: requests<3.0.0,>=2.13.0 in /Users/adrianrebmann/anaconda3/lib/python3.9/site-packages (from spacy<4.0,>=3.5->spacy-llm) (2.28.1)\n",
      "Requirement already satisfied: smart-open<7.0.0,>=5.2.1 in /Users/adrianrebmann/anaconda3/lib/python3.9/site-packages (from spacy<4.0,>=3.5->spacy-llm) (5.2.1)\n",
      "Requirement already satisfied: packaging>=20.0 in /Users/adrianrebmann/anaconda3/lib/python3.9/site-packages (from spacy<4.0,>=3.5->spacy-llm) (21.3)\n",
      "Requirement already satisfied: pydantic!=1.8,!=1.8.1,<1.11.0,>=1.7.4 in /Users/adrianrebmann/anaconda3/lib/python3.9/site-packages (from spacy<4.0,>=3.5->spacy-llm) (1.10.6)\n",
      "Requirement already satisfied: MarkupSafe>=2.0 in /Users/adrianrebmann/anaconda3/lib/python3.9/site-packages (from jinja2->spacy-llm) (2.1.2)\n",
      "Requirement already satisfied: pyparsing!=3.0.5,>=2.0.2 in /Users/adrianrebmann/anaconda3/lib/python3.9/site-packages (from packaging>=20.0->spacy<4.0,>=3.5->spacy-llm) (3.0.9)\n"
     ]
    },
    {
     "name": "stdout",
     "output_type": "stream",
     "text": [
      "Requirement already satisfied: typing-extensions>=4.2.0 in /Users/adrianrebmann/anaconda3/lib/python3.9/site-packages (from pydantic!=1.8,!=1.8.1,<1.11.0,>=1.7.4->spacy<4.0,>=3.5->spacy-llm) (4.5.0)\n",
      "Requirement already satisfied: certifi>=2017.4.17 in /Users/adrianrebmann/anaconda3/lib/python3.9/site-packages (from requests<3.0.0,>=2.13.0->spacy<4.0,>=3.5->spacy-llm) (2022.9.24)\n",
      "Requirement already satisfied: idna<4,>=2.5 in /Users/adrianrebmann/anaconda3/lib/python3.9/site-packages (from requests<3.0.0,>=2.13.0->spacy<4.0,>=3.5->spacy-llm) (3.3)\n",
      "Requirement already satisfied: urllib3<1.27,>=1.21.1 in /Users/adrianrebmann/anaconda3/lib/python3.9/site-packages (from requests<3.0.0,>=2.13.0->spacy<4.0,>=3.5->spacy-llm) (1.26.11)\n",
      "Requirement already satisfied: charset-normalizer<3,>=2 in /Users/adrianrebmann/anaconda3/lib/python3.9/site-packages (from requests<3.0.0,>=2.13.0->spacy<4.0,>=3.5->spacy-llm) (2.0.4)\n",
      "Requirement already satisfied: confection<1.0.0,>=0.0.1 in /Users/adrianrebmann/anaconda3/lib/python3.9/site-packages (from thinc<8.2.0,>=8.1.8->spacy<4.0,>=3.5->spacy-llm) (0.0.4)\n",
      "Requirement already satisfied: blis<0.8.0,>=0.7.8 in /Users/adrianrebmann/anaconda3/lib/python3.9/site-packages (from thinc<8.2.0,>=8.1.8->spacy<4.0,>=3.5->spacy-llm) (0.7.9)\n",
      "Requirement already satisfied: click<9.0.0,>=7.1.1 in /Users/adrianrebmann/anaconda3/lib/python3.9/site-packages (from typer<0.8.0,>=0.3.0->spacy<4.0,>=3.5->spacy-llm) (8.1.3)\n"
     ]
    }
   ],
   "source": [
    "# Required installs\n",
    "\n",
    "!pip install -q pm4py==2.7.3\n",
    "!pip install -q spacy\n",
    "!pip install -q spacy-transformers\n",
    "!pip install -q openai\n",
    "!python -m spacy download en_core_web_sm\n",
    "!python -m pip install spacy-llm"
   ]
  },
  {
   "cell_type": "markdown",
   "metadata": {},
   "source": [
    "### 1.1 Importing and analyzing an event log with GPTs and pm4py\n",
    "\n",
    "In this part, we will use [GPT-4](https://openai.com) and [pm4py](https://pm4py.fit.fraunhofer.de) to analyze a real-life event log. \n",
    "\n",
    "<small>\n",
    "Alessandro Berti, Daniel Schuster, and Wil M. P. van der Aalst: Abstractions, Scenarios, and Prompt Definitions for Process Mining with LLMs: A Case Study. In: BPM 2023 Workshops.\n",
    "</small>"
   ]
  },
  {
   "cell_type": "markdown",
   "metadata": {},
   "source": [
    "#### Importing an event log"
   ]
  },
  {
   "cell_type": "code",
   "execution_count": 3,
   "metadata": {},
   "outputs": [
    {
     "data": {
      "application/vnd.jupyter.widget-view+json": {
       "model_id": "3163329eabc94650925db197959a5ded",
       "version_major": 2,
       "version_minor": 0
      },
      "text/plain": [
       "parsing log, completed traces ::   0%|          | 0/10500 [00:00<?, ?it/s]"
      ]
     },
     "metadata": {},
     "output_type": "display_data"
    }
   ],
   "source": [
    "# Importing an example event log\n",
    "\n",
    "import pm4py\n",
    "travel_event_log = pm4py.read_xes(\"content/DomesticDeclarations.xes\")"
   ]
  },
  {
   "cell_type": "markdown",
   "metadata": {},
   "source": [
    "#### Describing the process captured in an event log"
   ]
  },
  {
   "cell_type": "code",
   "execution_count": 5,
   "metadata": {},
   "outputs": [
    {
     "data": {
      "text/plain": [
       "\"This process describes a series of actions or steps within an employee expense report or declaration approval workflow. It seems to occur in a corporate or administrative environment, where employees submit declarations of their expenses, which then go through a series of reviews and approvals by multiple parties, such as the supervisor, the administration, and the budget owner.\\n\\nThe process begins with an employee submitting a declaration, which can then follow different paths of approval or rejection by different parties. \\n\\n- Most frequently, the declaration is approved by the Administration and then finally approved by the Supervisor, after which the payment is requested and handled. \\n- Another common route sees the declaration approved by the Administration, then the Budget Owner and finally the Supervisor.\\n- Occasionally, the submission from the employee goes directly to final approval by the Supervisor.\\n- The process also accounts for situations where the declaration is rejected at various stages by different parties (Supervisor, Administration, Budget owner, etc.) Upon rejection, it usually goes back to the employee for resubmission.\\n\\nThere are also some rare routing variants in the process, where a declaration can be rejected by a party not previously involved (labelled as 'MISSING'), or where a declaration needs to be routed for approval by a 'PRE_APPROVER' before going to the Supervisor. \\n\\nFrequencies denote how often a certain transition in the process occurs, while performance indicates the efficiency or speed of these transitions. The higher the performance, the faster the transition occurs. These metrics can help in identifying bottlenecks and opportunities for process improvement.\""
      ]
     },
     "execution_count": 5,
     "metadata": {},
     "output_type": "execute_result"
    }
   ],
   "source": [
    "ans_desc = pm4py.openai.describe_process(travel_event_log, openai_model=\"gpt-3.5-turbo\", api_key=os.environ[\"OPENAI_API_KEY\"])\n",
    "print(ans_desc)"
   ]
  },
  {
   "cell_type": "markdown",
   "metadata": {},
   "source": [
    "#### Checking for potentially undesired behavior"
   ]
  },
  {
   "cell_type": "code",
   "execution_count": 6,
   "metadata": {},
   "outputs": [
    {
     "name": "stdout",
     "output_type": "stream",
     "text": [
      "1. Most Serious Anomaly: \"Declaration SUBMITTED by EMPLOYEE -> Declaration REJECTED by ADMINISTRATION -> Declaration REJECTED by EMPLOYEE -> Declaration SUBMITTED by EMPLOYEE -> Declaration REJECTED by ADMINISTRATION -> Declaration REJECTED by EMPLOYEE -> Declaration SUBMITTED by EMPLOYEE -> Declaration REJECTED by ADMINISTRATION -> Declaration REJECTED by EMPLOYEE -> Declaration SUBMITTED by EMPLOYEE -> Declaration APPROVED by ADMINISTRATION -> Declaration FINAL_APPROVED by SUPERVISOR -> Request Payment -> Payment Handled ( frequency = 4  performance = 3502608.25 )\" This process variant presents the greatest anomaly as it has a significant amount of repeated iterations for the rejection and submission of the declaration. Although it only happens 4 times, it implies a great deal of rework which results in a high performance cost and potentially causing a delay in the final completion of the process.\n",
      "\n",
      "2. Second Most Serious Anomaly: \"Declaration SUBMITTED by EMPLOYEE -> Declaration REJECTED by ADMINISTRATION -> Declaration REJECTED by EMPLOYEE -> Declaration SUBMITTED by EMPLOYEE -> Declaration REJECTED by ADMINISTRATION -> Declaration REJECTED by EMPLOYEE -> Declaration SUBMITTED by EMPLOYEE -> Declaration APPROVED by ADMINISTRATION -> Declaration APPROVED by BUDGET OWNER -> Declaration FINAL_APPROVED by SUPERVISOR -> Request Payment -> Payment Handled ( frequency = 29  performance = 2790853.172413793 )\" Similar to the first anomaly, a lot of rework is depicted with the repetition of the rejection and submission of the declaration. However, it is less serious compared to the first anomaly due to the slightly better performance and only two iterations of rejection before being approved.\n",
      "\n",
      "3. Third Most Serious Anomaly: \"Declaration SUBMITTED by EMPLOYEE -> Declaration REJECTED by ADMINISTRATION -> Declaration REJECTED by EMPLOYEE -> Declaration SUBMITTED by EMPLOYEE -> Declaration REJECTED by ADMINISTRATION -> Declaration REJECTED by EMPLOYEE ( frequency = 11  performance = 2544294.3636363638 )\" Although it has relatively lower frequency than some other process variants, it represents efficient operations that are marred by repeated rejection and resubmission iterations. This causes a delay in process completion and hampers productivity.\n",
      "\n",
      "4. Fourth Most Serious Anomaly: \"Declaration SUBMITTED by EMPLOYEE -> Declaration FINAL_APPROVED by SUPERVISOR -> Declaration REJECTED by MISSING -> Declaration SUBMITTED by EMPLOYEE -> Declaration FINAL_APPROVED by SUPERVISOR -> Request Payment -> Payment Handled ( frequency = 40  performance = 1947426.4 )\" This process variant showed an anomaly in the sequence of approval and rejection. The declaration was rejected after it was finalized by the supervisor, which could indicate potential issues with process controls or integrity. \n",
      "\n",
      "5. Fifth Most Serious Anomaly: \"Declaration SUBMITTED by EMPLOYEE -> Declaration APPROVED by ADMINISTRATION -> Declaration FINAL_APPROVED by SUPERVISOR -> Payment Handled ( frequency = 4  performance = 9111408.0 )\" This activity sequence represents a significant anomaly as there is no request for payment activity between final approval and payment handling. This could possibly imply an error or a deviation from the standard process. The frequency of occurrence is relatively small, however, the performance is significantly high which could indicate potentially serious implications if overlooked.\n"
     ]
    }
   ],
   "source": [
    "ans_ad = pm4py.openai.anomaly_detection(travel_event_log, openai_model=\"gpt-4\", api_key=os.environ[\"OPENAI_API_KEY\"])\n",
    "print(ans_ad)"
   ]
  },
  {
   "cell_type": "markdown",
   "metadata": {},
   "source": [
    "### 1.2 Implementing a custom task using GPTs\n",
    "In this part, we will focus on an NPL task in the context of business process analysis.\n",
    "We will show how such a task can be implemented using LLMs without any fine-tuning.\n",
    "\n",
    "As an example, we will focus on the extraction of business objecs and actions applied to these from activity or event labels. \n",
    "The automated analysis of such labels based on traditional NLP techniques and based on transformers has been actively researched. It enables many downstream pre-processing tasks, such as the cleaning/standardization of activity labels and the automated assessment of the type of activity that is performed."
   ]
  },
  {
   "cell_type": "code",
   "execution_count": 21,
   "metadata": {},
   "outputs": [
    {
     "data": {
      "text/plain": [
       "\"[('create', 'notification letter'), ('approve', 'notification letter')]\""
      ]
     },
     "execution_count": 21,
     "metadata": {},
     "output_type": "execute_result"
    }
   ],
   "source": [
    "task_prompt = \"\"\"You are an expert activity label tagger system. \n",
    "Your task is to accept activity labels such as 'create purchase order' as input and provide a list of pairs, where each pair consists of an action and the object it is applied on. For 'create purchase order', you would return [('create', 'purchase oder')]. If actions are not provided as verbs, change them into verbs. For 'purchase order creation' you would hence return ('create', 'purchase order') as well. Also turn past tense actions into present tense ones, i.e. 'purchase order created' becomes ('create', 'purchase order') too. If there is additional information, e.g., about who is performing the action orabout an IT system that is involved, discard that. \n",
    "\n",
    "Do not put any other text in your answer, only a (possibly empty) list of pairs with nothing before or after. In each pair the action comes first, followed by the object (if any).\n",
    "If the activity label does not contain any actions, return an empty list , ie., []\n",
    "\n",
    "Here is the activity label that shall be tagged.\n",
    "Text:\n",
    "\"\"\"\n",
    "\n",
    "def extract_object_action_pairs_from_label(label, model=\"gpt-3.5-turbo\"):\n",
    "    label_promt = task_prompt + \"'\" + label.lower() + \"''\"\n",
    "    import openai\n",
    "    openai.api_key = os.environ[\"OPENAI_API_KEY\"]\n",
    "    messages = [{\"role\": \"user\", \"content\": label_promt}]\n",
    "    response = openai.ChatCompletion.create(model=model, messages=messages)\n",
    "    return response[\"choices\"][0][\"message\"][\"content\"]\n",
    "    \n",
    "extract_object_action_pairs_from_label(\"notification letter creation and approval\")"
   ]
  },
  {
   "cell_type": "markdown",
   "metadata": {},
   "source": [
    "### 1.3 Potential use cases of the custom task\n",
    "\n",
    "Next, we use the implementation of our custom task for preprocessing our event log"
   ]
  },
  {
   "cell_type": "markdown",
   "metadata": {},
   "source": [
    "Let's apply the function to the event labels of our event log."
   ]
  },
  {
   "cell_type": "code",
   "execution_count": 22,
   "metadata": {},
   "outputs": [
    {
     "data": {
      "text/plain": [
       "{'Declaration APPROVED by ADMINISTRATION',\n",
       " 'Declaration APPROVED by BUDGET OWNER',\n",
       " 'Declaration APPROVED by PRE_APPROVER',\n",
       " 'Declaration FINAL_APPROVED by SUPERVISOR',\n",
       " 'Declaration FOR_APPROVAL by ADMINISTRATION',\n",
       " 'Declaration FOR_APPROVAL by PRE_APPROVER',\n",
       " 'Declaration FOR_APPROVAL by SUPERVISOR',\n",
       " 'Declaration REJECTED by ADMINISTRATION',\n",
       " 'Declaration REJECTED by BUDGET OWNER',\n",
       " 'Declaration REJECTED by EMPLOYEE',\n",
       " 'Declaration REJECTED by MISSING',\n",
       " 'Declaration REJECTED by PRE_APPROVER',\n",
       " 'Declaration REJECTED by SUPERVISOR',\n",
       " 'Declaration SAVED by EMPLOYEE',\n",
       " 'Declaration SUBMITTED by EMPLOYEE',\n",
       " 'Payment Handled',\n",
       " 'Request Payment'}"
      ]
     },
     "execution_count": 22,
     "metadata": {},
     "output_type": "execute_result"
    }
   ],
   "source": [
    "unique_labels = set(travel_event_log[\"concept:name\"].unique())\n",
    "unique_labels"
   ]
  },
  {
   "cell_type": "code",
   "execution_count": 23,
   "metadata": {},
   "outputs": [
    {
     "name": "stdout",
     "output_type": "stream",
     "text": [
      "[('reject', 'declaration')]\n",
      "[('approve', 'declaration')]\n",
      "[('handle', 'payment')]\n",
      "[('approve', 'declaration')]\n",
      "[('save', 'declaration')]\n",
      "[('approve', 'declaration')]\n",
      "[]\n",
      "[('declare', 'for_approval')]\n",
      "[('reject', 'declaration')]\n",
      "[('reject', 'declaration')]\n",
      "[('request', 'payment')]\n",
      "[('reject', 'declaration')]\n",
      "[('approve', 'declaration')]\n",
      "[('approve', 'declaration')]\n",
      "[('submit', 'declaration')]\n",
      "[('approve', 'declaration')]\n",
      "[('reject', 'declaration')]\n"
     ]
    }
   ],
   "source": [
    "for label in unique_labels:\n",
    "    print(extract_object_action_pairs_from_label(label))"
   ]
  },
  {
   "cell_type": "code",
   "execution_count": null,
   "metadata": {},
   "outputs": [],
   "source": []
  },
  {
   "cell_type": "markdown",
   "metadata": {},
   "source": [
    "## 2. Analyzing textual process descriptions"
   ]
  },
  {
   "cell_type": "markdown",
   "metadata": {},
   "source": [
    "<b>Exercise 3.1</b>: Once a loan application has been approved by the loan provider, an acceptance pack is prepared and sent to the customer. The acceptance pack includes a repayment schedule which the customer needs to agree upon by sending the signed documents back to the loan provider. The latter then verifies the repayment agreement: if the applicant disagreed with the repayment schedule, the loan provider cancels the application; if the applicant agreed, the loan provider approves the application. In either case, the process completes with the loan provider notifying the applicant of the application status.\n",
    "\n",
    "<b>Exercise 3.2</b>: A loan application is approved if it passes two checks: (i) the applicant’s loan risk assessment, done automatically by a system, and (ii) the appraisal of the property for which the loan has been asked, carried out by a property appraiser. The risk assessment requires a credit history check on the applicant, which is performed by a financial officer. Once both the loan risk assessment and the property appraisal have been performed, a loan officer can assess the applicant’s eligibility. If the applicant is not eligible, the application is rejected, otherwise the acceptance pack is prepared and sent to the applicant.\n",
    "\n",
    "<b>Exercise 3.3</b>: A loan application may be coupled with a home insurance which is offered at discounted prices. The applicants may express their interest in a home insurance plan at the time of submitting their loan application to the loan provider. Based on this information, if the loan application is approved, the loan provider may either only send an acceptance pack to the applicant, or also send a home insurance quote. The process then continues with the verification of the repayment agreement.\n",
    "\n"
   ]
  },
  {
   "cell_type": "code",
   "execution_count": 26,
   "metadata": {},
   "outputs": [],
   "source": [
    "exercise_3_1 = \"Once a loan application has been approved by the loan provider, an acceptance pack is prepared and sent to the customer. The acceptance pack includes a repayment schedule which the customer needs to agree upon by sending the signed documents back to the loan provider. The latter then verifies the repayment agreement: if the applicant disagreed with the repayment schedule, the loan provider cancels the application; if the applicant agreed, the loan provider approves the application. In either case, the process completes with the loan provider notifying the applicant of the application status.\"\n",
    "exercise_3_2 = \"A loan application is approved if it passes two checks: (i) the applicant’s loan risk assessment, done automatically by a system, and (ii) the appraisal of the property for which the loan has been asked, carried out by a property appraiser. The risk assessment requires a credit history check on the applicant, which is performed by a financial officer. Once both the loan risk assessment and the property appraisal have been performed, a loan officer can assess the applicant’s eligibility. If the applicant is not eligible, the application is rejected, otherwise the acceptance pack is prepared and sent to the applicant.\"\n",
    "exercise_3_3 = \"A loan application may be coupled with a home insurance which is offered at discounted prices. The applicants may express their interest in a home insurance plan at the time of submitting their loan application to the loan provider. Based on this information, if the loan application is approved, the loan provider may either only send an acceptance pack to the applicant, or also send a home insurance quote. The process then continues with the verification of the repayment agreement.\"\n"
   ]
  },
  {
   "cell_type": "code",
   "execution_count": 34,
   "metadata": {},
   "outputs": [],
   "source": [
    "text_to_intermediate_prompt = \"\"\"\n",
    "create a BPMN process model for the process description that I’ll give to you. \n",
    "Use the following notation: tasks as words (e.g., Receive Order); arcs as arrows (->).\n",
    "XOR, OR, and AND splits as XOR, OR, and AND. \n",
    "In case of XOR, provide me with the condition of using it using this notation: XOR -> (condition) task. \n",
    "Provide a mapping of actors to activities if applicable using the form: actor: [activity1, ...]\n",
    "\"\"\"\n",
    "\n",
    "text_to_bpmn_prompt = \"Convert the given description into a BPMN diagram and provide the XML code for it. Provide only the code and nothing else.\""
   ]
  },
  {
   "cell_type": "code",
   "execution_count": 36,
   "metadata": {},
   "outputs": [
    {
     "name": "stdout",
     "output_type": "stream",
     "text": [
      "<definitions id=\"definitions\"\n",
      "   targetNamespace=\"http://www.omg.org/spec/BPMN/20100524/MODEL\"\n",
      "   xmlns=\"http://www.omg.org/spec/BPMN/20100524/MODEL\"\n",
      "   xmlns:semantic=\"http://www.omg.org/spec/BPMN/20100524/MODEL\"\n",
      "   xmlns:xsi=\"http://www.w3.org/2001/XMLSchema-instance\">\n",
      "  <process id=\"loanApplicationProcess\" isExecutable=\"true\">\n",
      "    <startEvent id=\"startEvent\" name=\"Loan Application Submitted\"/>\n",
      "    <parallelGateway id=\"parallelGateway1\" name=\"Parallel Gateway 1\"/>\n",
      "    <sequenceFlow id=\"sequenceFlow1\" sourceRef=\"startEvent\" targetRef=\"task1\"/>\n",
      "    <task id=\"task1\" name=\"Loan Application Approval\"/>\n",
      "    <exclusiveGateway id=\"exclusiveGateway1\" name=\"Decision Gateway 1\"/>\n",
      "    <sequenceFlow id=\"sequenceFlow2\" sourceRef=\"task1\" targetRef=\"exclusiveGateway1\"/>\n",
      "    <task id=\"task2\" name=\"Prepare Acceptance Pack\"/>\n",
      "    <sequenceFlow id=\"sequenceFlow3\" sourceRef=\"exclusiveGateway1\" targetRef=\"task2\">\n",
      "      <conditionExpression xsi:type=\"tFormalExpression\" language=\"http://www.w3.org/1999/XPath\">approved</conditionExpression>\n",
      "    </sequenceFlow>\n",
      "    <exclusiveGateway id=\"exclusiveGateway2\" name=\"Decision Gateway 2\"/>\n",
      "    <sequenceFlow id=\"sequenceFlow4\" sourceRef=\"task2\" targetRef=\"exclusiveGateway2\"/>\n",
      "    <task id=\"task3\" name=\"Send Acceptance Pack to Customer\"/>\n",
      "    <sequenceFlow id=\"sequenceFlow5\" sourceRef=\"exclusiveGateway2\" targetRef=\"task3\">\n",
      "      <conditionExpression xsi:type=\"tFormalExpression\" language=\"http://www.w3.org/1999/XPath\">approved</conditionExpression>\n",
      "    </sequenceFlow>\n",
      "    <task id=\"task4\" name=\"Verify Repayment Agreement\"/>\n",
      "    <sequenceFlow id=\"sequenceFlow6\" sourceRef=\"task3\" targetRef=\"task4\"/>\n",
      "    <exclusiveGateway id=\"exclusiveGateway3\" name=\"Decision Gateway 3\"/>\n",
      "    <sequenceFlow id=\"sequenceFlow7\" sourceRef=\"task4\" targetRef=\"exclusiveGateway3\"/>\n",
      "    <task id=\"task5\" name=\"Cancel Application\"/>\n",
      "    <sequenceFlow id=\"sequenceFlow8\" sourceRef=\"exclusiveGateway3\" targetRef=\"task5\">\n",
      "      <conditionExpression xsi:type=\"tFormalExpression\" language=\"http://www.w3.org/1999/XPath\">not approved</conditionExpression>\n",
      "    </sequenceFlow>\n",
      "    <task id=\"task6\" name=\"Approve Application\"/>\n",
      "    <sequenceFlow id=\"sequenceFlow9\" sourceRef=\"exclusiveGateway3\" targetRef=\"task6\">\n",
      "      <conditionExpression xsi:type=\"tFormalExpression\" language=\"http://www.w3.org/1999/XPath\">approved</conditionExpression>\n",
      "    </sequenceFlow>\n",
      "    <task id=\"task7\" name=\"Notify Applicant\"/>\n",
      "    <sequenceFlow id=\"sequenceFlow10\" sourceRef=\"task5\" targetRef=\"task7\"/>\n",
      "    <sequenceFlow id=\"sequenceFlow11\" sourceRef=\"task6\" targetRef=\"task7\"/>\n",
      "    <endEvent id=\"endEvent\" name=\"Process Complete\"/>\n",
      "    <sequenceFlow id=\"sequenceFlow12\" sourceRef=\"task7\" targetRef=\"endEvent\"/>\n",
      "    <sequenceFlow id=\"sequenceFlow13\" sourceRef=\"task7\" targetRef=\"endEvent\"/>\n",
      "  </process>\n",
      "</definitions>\n"
     ]
    }
   ],
   "source": [
    "def text_to_model(description, model=\"gpt-3.5-turbo\"):\n",
    "    prompt = text_to_bpmn_prompt + \"\\n Here is the description:\\n\" + description\n",
    "    import openai\n",
    "    openai.api_key = os.environ[\"OPENAI_API_KEY\"]\n",
    "    messages = [{\"role\": \"user\", \"content\": prompt}]\n",
    "    response = openai.ChatCompletion.create(model=model, messages=messages)\n",
    "    return response[\"choices\"][0][\"message\"][\"content\"]\n",
    "\n",
    "ans_sketch = text_to_model(exercise_3_1)\n",
    "print(ans_sketch)"
   ]
  },
  {
   "cell_type": "markdown",
   "metadata": {},
   "source": [
    "<img src=\"https://raw.githubusercontent.com/a-rebmann/nlp4bpa/main/content/exercise_3_1.png\" alt=\"Exercise 3.1\" />"
   ]
  },
  {
   "cell_type": "markdown",
   "metadata": {},
   "source": [
    "<img src=\"https://raw.githubusercontent.com/a-rebmann/nlp4bpa/main/content/exercise_3_2.png\" alt=\"Exercise 3.2\" />"
   ]
  },
  {
   "cell_type": "markdown",
   "metadata": {},
   "source": [
    "<img src=\"https://raw.githubusercontent.com/a-rebmann/nlp4bpa/main/content/exercise_3_3.png\" alt=\"Exercise 3.3\" />"
   ]
  },
  {
   "cell_type": "code",
   "execution_count": null,
   "metadata": {},
   "outputs": [],
   "source": []
  }
 ],
 "metadata": {
  "accelerator": "GPU",
  "colab": {
   "collapsed_sections": [
    "WBk0ZDWY-ff8"
   ],
   "name": "nlp4bpm_tutorial_2023.ipynb",
   "provenance": []
  },
  "kernelspec": {
   "display_name": "Python 3 (ipykernel)",
   "language": "python",
   "name": "python3"
  },
  "language_info": {
   "codemirror_mode": {
    "name": "ipython",
    "version": 3
   },
   "file_extension": ".py",
   "mimetype": "text/x-python",
   "name": "python",
   "nbconvert_exporter": "python",
   "pygments_lexer": "ipython3",
   "version": "3.9.13"
  }
 },
 "nbformat": 4,
 "nbformat_minor": 1
}
