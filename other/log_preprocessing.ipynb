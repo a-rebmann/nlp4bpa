{
 "cells": [
  {
   "cell_type": "markdown",
   "id": "537a2ded",
   "metadata": {},
   "source": [
    "Select a subset of cases in the log, so we have a smaller file that can be uploaded faster."
   ]
  },
  {
   "cell_type": "code",
   "execution_count": null,
   "id": "a535511b",
   "metadata": {},
   "outputs": [],
   "source": [
    "import pm4py\n",
    "travel_event_log = pm4py.read_xes(\"content/PermitLog.xes\")\n",
    "travel_event_log"
   ]
  },
  {
   "cell_type": "code",
   "execution_count": null,
   "id": "9d4c7bac",
   "metadata": {},
   "outputs": [],
   "source": [
    "import random\n",
    "all_case_ids = travel_event_log[\"case:concept:name\"].unique()\n",
    "# select 10% of the cases randomly\n",
    "randomly_samples_case_ids = random.choices(all_case_ids, k=int(len(all_case_ids)/10))\n",
    "print(len(randomly_samples_case_ids), \"selected\")\n",
    "travel_event_log_sampled = travel_event_log[travel_event_log[\"case:concept:name\"].isin(randomly_samples_case_ids)]"
   ]
  },
  {
   "cell_type": "code",
   "execution_count": null,
   "id": "61733c9d",
   "metadata": {},
   "outputs": [],
   "source": [
    "travel_event_log_sampled"
   ]
  },
  {
   "cell_type": "code",
   "execution_count": null,
   "id": "f4e35603",
   "metadata": {},
   "outputs": [],
   "source": [
    "pm4py.write_xes(travel_event_log_sampled, \"content/PermitLog_small.xes\", case_id_key='case:concept:name')"
   ]
  }
 ],
 "metadata": {
  "kernelspec": {
   "display_name": "Python 3 (ipykernel)",
   "language": "python",
   "name": "python3"
  },
  "language_info": {
   "codemirror_mode": {
    "name": "ipython",
    "version": 3
   },
   "file_extension": ".py",
   "mimetype": "text/x-python",
   "name": "python",
   "nbconvert_exporter": "python",
   "pygments_lexer": "ipython3",
   "version": "3.9.13"
  }
 },
 "nbformat": 4,
 "nbformat_minor": 5
}
